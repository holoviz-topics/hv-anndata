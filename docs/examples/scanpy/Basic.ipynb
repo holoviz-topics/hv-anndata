{
 "cells": [
  {
   "cell_type": "markdown",
   "id": "0",
   "metadata": {},
   "source": [
    "# Basic plotting tools\n",
    "\n",
    "hv resources\n",
    "- Gallery: https://holoviews.org/reference/\n",
    "- https://holoviews.org/user_guide/Customizing_Plots.html\n",
    "- https://holoviews.org/user_guide/Style_Mapping.html\n",
    "- https://holoviews.org/user_guide/Colormaps.html\n",
    "- https://holoviews.org/user_guide/Plotting_with_Bokeh.html"
   ]
  },
  {
   "cell_type": "code",
   "execution_count": null,
   "id": "1",
   "metadata": {},
   "outputs": [],
   "source": [
    "import holoviews as hv\n",
    "\n",
    "import hv_anndata\n",
    "from hv_anndata import ACCESSOR as A\n",
    "from hv_anndata import register\n",
    "\n",
    "register()\n",
    "\n",
    "hv.extension(\"bokeh\")"
   ]
  },
  {
   "cell_type": "code",
   "execution_count": null,
   "id": "2",
   "metadata": {},
   "outputs": [],
   "source": [
    "import numpy as np\n",
    "import scanpy as sc\n",
    "\n",
    "rng = np.random.default_rng()"
   ]
  },
  {
   "cell_type": "code",
   "execution_count": null,
   "id": "3",
   "metadata": {},
   "outputs": [],
   "source": [
    "adata = sc.datasets.pbmc68k_reduced()\n",
    "adata.layers[\"counts\"] = adata.raw.X\n",
    "del adata.raw\n",
    "sc.tl.umap(adata)\n",
    "adata"
   ]
  },
  {
   "cell_type": "markdown",
   "id": "4",
   "metadata": {},
   "source": [
    "[pl.scatter](https://scanpy.readthedocs.io/en/stable/generated/scanpy.pl.scatter)\n",
    "\n",
    "missing features:\n",
    "- `use_raw` (deprecated!)\n",
    "- `na_color` (not super important)\n",
    "\n",
    "missing convenience:\n",
    "- `basis` for easy X&Y"
   ]
  },
  {
   "cell_type": "code",
   "execution_count": null,
   "id": "5",
   "metadata": {},
   "outputs": [],
   "source": [
    "# add NAs to check how missing values look\n",
    "adata_scatter = adata.copy()\n",
    "adata_scatter.obs.loc[\n",
    "    (\n",
    "        (adata_scatter.obs[\"bulk_labels\"] == \"Dendritic\")\n",
    "        & rng.choice([True, False], size=len(adata_scatter))\n",
    "    ),\n",
    "    \"bulk_labels\",\n",
    "] = np.nan\n",
    "\n",
    "hv.Scatter(\n",
    "    adata_scatter, A.obsm[\"X_umap\"][0], [A.obsm[\"X_umap\"][1], A.obs[\"bulk_labels\"]]\n",
    ").opts(\n",
    "    color=A.obs[\"bulk_labels\"], cmap=\"tab10\", aspect=\"square\", legend_position=\"right\"\n",
    ")"
   ]
  },
  {
   "cell_type": "markdown",
   "id": "6",
   "metadata": {},
   "source": [
    "[pl.heatmap](https://scanpy.readthedocs.io/en/stable/generated/scanpy.pl.heatmap.html)\n",
    "\n",
    "missing:\n",
    "- `groupby` / [TickBar](https://github.com/holoviz/holoviews/issues/6658)\n",
    "- `standard_scale` (see implemantation in {class}`hv_anndata.Dotmap`)"
   ]
  },
  {
   "cell_type": "code",
   "execution_count": null,
   "id": "7",
   "metadata": {},
   "outputs": [],
   "source": [
    "markers = [\"C1QA\", \"PSAP\", \"CD79A\", \"CD79B\", \"CST3\", \"LYZ\"]\n",
    "hv.HeatMap(\n",
    "    adata[np.argsort(adata.obs[\"bulk_labels\"], stable=True), markers],\n",
    "    [A.obs[\"index\"], A.var[\"index\"]],\n",
    "    [A[:, :]],\n",
    ").opts(xticks=0, colorbar=True, responsive=True, height=200)"
   ]
  },
  {
   "cell_type": "markdown",
   "id": "8",
   "metadata": {},
   "source": [
    "[pl.dotplot](https://scanpy.readthedocs.io/en/stable/generated/scanpy.pl.dotplot.html)\n",
    "\n",
    "missing:\n",
    "- `var_group_*` (highlight groups of `var_names` by drawing brackets)"
   ]
  },
  {
   "cell_type": "code",
   "execution_count": null,
   "id": "9",
   "metadata": {},
   "outputs": [],
   "source": [
    "hv_anndata.Dotmap(adata=adata, marker_genes=markers, groupby=\"bulk_labels\")"
   ]
  },
  {
   "cell_type": "markdown",
   "id": "10",
   "metadata": {},
   "source": [
    "[pl.tracksplot](https://scanpy.readthedocs.io/en/stable/generated/scanpy.pl.tracksplot.html)\n",
    "\n",
    "missing:\n",
    "- `shared_xaxis=False` doesn’t seem to work on GridSpace\n",
    "- GridSpace can only be 2D or row-only, not col-only\n",
    "- how to display shared legend?"
   ]
  },
  {
   "cell_type": "code",
   "execution_count": null,
   "id": "11",
   "metadata": {},
   "outputs": [],
   "source": [
    "markers = [\"C1QA\", \"PSAP\", \"CD79A\", \"CD79B\", \"CST3\", \"LYZ\"]\n",
    "hv.NdLayout(\n",
    "    {\n",
    "        m: hv.Curve(adata, [A.obs[\"index\"]], [A[:, m], A.obs[\"bulk_labels\"]])\n",
    "        .opts(\n",
    "            xticks=0,\n",
    "            xlabel=\"\",\n",
    "            ylabel=m,\n",
    "            title=\"\",\n",
    "            frame_height=50,\n",
    "            frame_width=900,\n",
    "            show_legend=False,\n",
    "        )\n",
    "        .groupby(A.obs[\"bulk_labels\"], hv.NdOverlay)\n",
    "        for m in markers\n",
    "    },\n",
    "    kdims=[\"marker\"],\n",
    ").cols(1)"
   ]
  },
  {
   "cell_type": "code",
   "execution_count": null,
   "id": "12",
   "metadata": {},
   "outputs": [],
   "source": [
    "markers = [\"C1QA\", \"PSAP\", \"CD79A\", \"CD79B\", \"CST3\", \"LYZ\"]\n",
    "hv.GridSpace(\n",
    "    {\n",
    "        (0, m): hv.Curve(adata, [A.obs[\"index\"]], [A[:, m], A.obs[\"bulk_labels\"]])\n",
    "        .opts(frame_height=50, frame_width=900)\n",
    "        .groupby(A.obs[\"bulk_labels\"], hv.NdOverlay)\n",
    "        for m in markers\n",
    "    },\n",
    "    kdims=[\"_\", \"marker\"],\n",
    ")"
   ]
  },
  {
   "cell_type": "markdown",
   "id": "13",
   "metadata": {},
   "source": [
    "pl.violin"
   ]
  },
  {
   "cell_type": "markdown",
   "id": "14",
   "metadata": {},
   "source": [
    "pl.stacked_violin"
   ]
  },
  {
   "cell_type": "markdown",
   "id": "15",
   "metadata": {},
   "source": [
    "pl.matrixplot"
   ]
  },
  {
   "cell_type": "markdown",
   "id": "16",
   "metadata": {},
   "source": [
    "pl.clustermap"
   ]
  },
  {
   "cell_type": "markdown",
   "id": "17",
   "metadata": {},
   "source": [
    "pl.ranking"
   ]
  },
  {
   "cell_type": "markdown",
   "id": "18",
   "metadata": {},
   "source": [
    "pl.dendrogram"
   ]
  }
 ],
 "metadata": {
  "kernelspec": {
   "display_name": "hv-anndata",
   "language": "python",
   "name": "hv-anndata"
  },
  "language_info": {
   "codemirror_mode": {
    "name": "ipython",
    "version": 3
   },
   "file_extension": ".py",
   "mimetype": "text/x-python",
   "name": "python",
   "nbconvert_exporter": "python",
   "pygments_lexer": "ipython3",
   "version": "3.13.5"
  }
 },
 "nbformat": 4,
 "nbformat_minor": 5
}
