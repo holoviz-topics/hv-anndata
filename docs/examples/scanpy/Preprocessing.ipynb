{
 "cells": [
  {
   "cell_type": "markdown",
   "id": "0",
   "metadata": {},
   "source": [
    "# Visualizing pre-processing results"
   ]
  },
  {
   "cell_type": "code",
   "execution_count": null,
   "id": "1",
   "metadata": {},
   "outputs": [],
   "source": [
    "%load_ext autoreload\n",
    "%autoreload 2"
   ]
  },
  {
   "cell_type": "code",
   "execution_count": null,
   "id": "2",
   "metadata": {},
   "outputs": [],
   "source": [
    "import holoviews as hv\n",
    "\n",
    "from hv_anndata import ACCESSOR as A\n",
    "from hv_anndata import register\n",
    "from hv_anndata import scanpy as hv_sc\n",
    "\n",
    "register()\n",
    "\n",
    "hv.extension(\"bokeh\")"
   ]
  },
  {
   "cell_type": "code",
   "execution_count": null,
   "id": "3",
   "metadata": {},
   "outputs": [],
   "source": [
    "import scanpy as sc"
   ]
  },
  {
   "cell_type": "code",
   "execution_count": null,
   "id": "4",
   "metadata": {},
   "outputs": [],
   "source": [
    "adata = sc.datasets.pbmc68k_reduced()\n",
    "adata.layers[\"counts\"] = adata.raw.X\n",
    "del adata.raw\n",
    "adata"
   ]
  },
  {
   "cell_type": "markdown",
   "id": "5",
   "metadata": {},
   "source": [
    "{func}`scanpy.pl.highest_expr_genes`"
   ]
  },
  {
   "cell_type": "code",
   "execution_count": null,
   "id": "6",
   "metadata": {},
   "outputs": [],
   "source": [
    "hv_sc.highest_expr_genes(adata, layer=\"counts\")"
   ]
  },
  {
   "cell_type": "markdown",
   "id": "7",
   "metadata": {},
   "source": [
    "~~{func}`scanpy.pl.filter_genes_dispersion`~~ deprecated in favor of:"
   ]
  },
  {
   "cell_type": "markdown",
   "id": "8",
   "metadata": {},
   "source": [
    "{func}`scanpy.pl.highly_variable_genes`"
   ]
  },
  {
   "cell_type": "code",
   "execution_count": null,
   "id": "9",
   "metadata": {},
   "outputs": [],
   "source": [
    "sc.pp.highly_variable_genes(adata)\n",
    "# sc.pl.highly_variable_genes(adata)"
   ]
  },
  {
   "cell_type": "code",
   "execution_count": null,
   "id": "10",
   "metadata": {},
   "outputs": [],
   "source": [
    "d1, d2 = (\n",
    "    (\"variances\", \"variances_norm\")\n",
    "    if adata.uns[\"hvg\"][\"flavor\"] == \"seurat_v3\"\n",
    "    else (\"dispersions\", \"dispersions_norm\")\n",
    ")\n",
    "\n",
    "hv.Layout([\n",
    "    hv.Scatter(adata, [A.var[\"means\"]], [A.var[d], A.var[\"highly_variable\"]]).opts(\n",
    "        color=A.var[\"highly_variable\"],\n",
    "        cmap={True: \"black\", False: \"gray\"},\n",
    "    )\n",
    "    for d in [d2, d1]\n",
    "])"
   ]
  },
  {
   "cell_type": "markdown",
   "id": "11",
   "metadata": {},
   "source": [
    "{func}`scanpy.pl.scrublet_score_distribution`\n",
    "\n",
    "TODO:\n",
    "- batches\n",
    "\n",
    "missing:\n",
    "- where are the y ticks on the y axis?"
   ]
  },
  {
   "cell_type": "code",
   "execution_count": null,
   "id": "12",
   "metadata": {},
   "outputs": [],
   "source": [
    "adata_sim = sc.pp.scrublet_simulate_doublets(adata)\n",
    "sc.pp.scrublet(adata, adata_sim)\n",
    "# sc.pl.scrublet_score_distribution(adata)"
   ]
  },
  {
   "cell_type": "code",
   "execution_count": null,
   "id": "13",
   "metadata": {},
   "outputs": [],
   "source": [
    "labels = dict(\n",
    "    xlabel=\"Doublet score\",\n",
    "    ylabel=\"Probability density\",\n",
    ")\n",
    "\n",
    "hv.Layout([\n",
    "    hv.Dataset(adata, [], [A.obs[\"doublet_score\"]])\n",
    "    .hist(A.obs[\"doublet_score\"], adjoin=False)\n",
    "    .opts(xlim=(0, 1), logy=True, ylim=(1, None), **labels),\n",
    "    hv.Table(adata.uns[\"scrublet\"][\"doublet_scores_sim\"], \"scores\")\n",
    "    .hist(\"scores\", adjoin=False)\n",
    "    .opts(xlim=(0, 1), shared_axes=False, **labels),\n",
    "]) * hv.VLine(adata.uns[\"scrublet\"][\"threshold\"])"
   ]
  }
 ],
 "metadata": {
  "kernelspec": {
   "display_name": "hv-anndata",
   "language": "python",
   "name": "hv-anndata"
  },
  "language_info": {
   "codemirror_mode": {
    "name": "ipython",
    "version": 3
   },
   "file_extension": ".py",
   "mimetype": "text/x-python",
   "name": "python",
   "nbconvert_exporter": "python",
   "pygments_lexer": "ipython3",
   "version": "3.13.7"
  }
 },
 "nbformat": 4,
 "nbformat_minor": 5
}
