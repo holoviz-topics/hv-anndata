{
 "cells": [
  {
   "cell_type": "markdown",
   "id": "0",
   "metadata": {},
   "source": [
    "# Visualizing tools’ results\n",
    "\n",
    "graph stuff:\n",
    "- https://holoviews.org/gallery/demos/bokeh/network_graph.html\n",
    "- https://holoviews.org/reference/elements/bokeh/Graph.html"
   ]
  },
  {
   "cell_type": "code",
   "execution_count": null,
   "id": "1",
   "metadata": {},
   "outputs": [],
   "source": [
    "import holoviews as hv\n",
    "\n",
    "from hv_anndata import ACCESSOR as A\n",
    "from hv_anndata import register\n",
    "from hv_anndata.interface import AdPath\n",
    "\n",
    "register()\n",
    "\n",
    "hv.extension(\"bokeh\")"
   ]
  },
  {
   "cell_type": "code",
   "execution_count": null,
   "id": "2",
   "metadata": {},
   "outputs": [],
   "source": [
    "from typing import Literal\n",
    "\n",
    "import numpy as np\n",
    "import scanpy as sc\n",
    "from anndata import AnnData\n",
    "from scanpy._utils import NeighborsView"
   ]
  },
  {
   "cell_type": "code",
   "execution_count": null,
   "id": "3",
   "metadata": {},
   "outputs": [],
   "source": [
    "adata = sc.datasets.pbmc68k_reduced()\n",
    "sc.pp.pca(adata)\n",
    "sc.pp.neighbors(adata)\n",
    "sc.tl.umap(adata)"
   ]
  },
  {
   "cell_type": "markdown",
   "id": "4",
   "metadata": {},
   "source": [
    "{func}`scanpy.pl.embedding` (i.e. {func}`scanpy.pl.pca`, {func}`scanpy.pl.umap`, {func}`scanpy.pl.diffmap`, {func}`scanpy.pl.tsne`, {func}`scanpy.pl.draw_graph`)\n",
    "\n",
    "missing:\n",
    "- `add_outline`\n",
    "- fast graph routines: https://github.com/holoviz/holoviews/issues/6667\n",
    "- `legend_position` doesn’t work for graphs\n",
    "\n",
    "missing convenience:\n",
    "- `groups` to restrict to a subset easily"
   ]
  },
  {
   "cell_type": "code",
   "execution_count": null,
   "id": "5",
   "metadata": {},
   "outputs": [],
   "source": [
    "# without edges, see `scatter` in Basic notebook\n",
    "\n",
    "\n",
    "def draw_graph(\n",
    "    adata: AnnData,\n",
    "    node_vdims: AdPath | list[AdPath] | None = None,\n",
    "    edge_vdim: Literal[\"distances\", \"connectivities\"] = \"connectivities\",\n",
    "    *,\n",
    "    neighbors_key: str = \"neighbors\",\n",
    ") -> hv.Graph:\n",
    "    adata = adata.copy()\n",
    "    adata.obs[\"cell index\"] = range(adata.n_obs)\n",
    "    # TODO: allow to use things like A.obsp[\"connectivities\"]  # noqa: TD003\n",
    "    ns = NeighborsView(adata, neighbors_key)\n",
    "    coo = ns[edge_vdim].tocoo()\n",
    "    nodes = hv.Nodes(\n",
    "        adata,\n",
    "        [A.obsm[\"X_umap\"][0], A.obsm[\"X_umap\"][1], A.obs[\"cell index\"]],\n",
    "        node_vdims,\n",
    "    )\n",
    "    return hv.Graph(((*coo.coords, coo.data), nodes), vdims=edge_vdim)\n",
    "\n",
    "\n",
    "draw_graph(adata, [A.obs[\"bulk_labels\"]]).opts(\n",
    "    node_color=A.obs[\"bulk_labels\"],\n",
    "    node_cmap=\"tab10\",\n",
    "    edge_color=\"connectivities\",\n",
    "    aspect=\"square\",\n",
    "    legend_position=\"right\",\n",
    ")"
   ]
  },
  {
   "cell_type": "markdown",
   "id": "6",
   "metadata": {},
   "source": [
    "{func}`scanpy.pl.ranking` ({func}`scanpy.pl.pca_loadings`, {func}`scanpy.pl.pca_variance_ratio`)"
   ]
  },
  {
   "cell_type": "code",
   "execution_count": null,
   "id": "7",
   "metadata": {},
   "outputs": [],
   "source": [
    "def ranking(adata, dim: AdPath, n: int = 10) -> hv.Labels:\n",
    "    scores = dim(adata)\n",
    "    [ax] = dim.axes\n",
    "    labels = getattr(adata, ax).index\n",
    "    ranking = np.argsort(scores)\n",
    "    top, bot = ranking[-n:][::-1], ranking[:n][::-1]\n",
    "    scores = np.concatenate([scores[top], [np.nan], scores[bot]])\n",
    "    scores[n] = np.nanmean(scores)\n",
    "    ds = dict(\n",
    "        rank=np.arange(2 * n + 1) + 1,\n",
    "        scores=scores,\n",
    "        label=np.concatenate([labels[top], [\"⋯\"], labels[bot]]),\n",
    "    )\n",
    "    return hv.Labels(ds, [\"rank\", \"scores\"], [\"label\"]).opts(\n",
    "        angle=90, text_align=\"left\"\n",
    "    )\n",
    "\n",
    "\n",
    "ranking(adata, A.varm[\"PCs\"][0]).opts(aspect=1.2)"
   ]
  }
 ],
 "metadata": {
  "kernelspec": {
   "display_name": "hv-anndata",
   "language": "python",
   "name": "hv-anndata"
  },
  "language_info": {
   "codemirror_mode": {
    "name": "ipython",
    "version": 3
   },
   "file_extension": ".py",
   "mimetype": "text/x-python",
   "name": "python",
   "nbconvert_exporter": "python",
   "pygments_lexer": "ipython3",
   "version": "3.13.7"
  }
 },
 "nbformat": 4,
 "nbformat_minor": 5
}
