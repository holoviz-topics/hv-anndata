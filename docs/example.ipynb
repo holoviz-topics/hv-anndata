{
 "cells": [
  {
   "cell_type": "code",
   "execution_count": null,
   "metadata": {},
   "outputs": [],
   "source": [
    "!hatch run true"
   ]
  },
  {
   "cell_type": "code",
   "execution_count": null,
   "metadata": {},
   "outputs": [],
   "source": [
    "import holoviews as hv\n",
    "import scanpy as sc"
   ]
  },
  {
   "cell_type": "code",
   "execution_count": null,
   "metadata": {},
   "outputs": [],
   "source": [
    "hv.extension(\"bokeh\", \"matplotlib\")"
   ]
  },
  {
   "cell_type": "code",
   "execution_count": null,
   "metadata": {},
   "outputs": [],
   "source": [
    "adata = sc.datasets.paul15()\n",
    "sc.pp.pca(adata)\n",
    "sc.pp.neighbors(adata)\n",
    "sc.tl.umap(adata)\n",
    "adata"
   ]
  },
  {
   "cell_type": "code",
   "execution_count": null,
   "metadata": {},
   "outputs": [],
   "source": [
    "from dataclasses import dataclass\n",
    "from enum import Enum, auto\n",
    "from typing import cast, overload\n",
    "\n",
    "import numpy as np\n",
    "\n",
    "\n",
    "class Raise(Enum):\n",
    "    Sentry = auto()\n",
    "\n",
    "\n",
    "@dataclass\n",
    "class AnnDataProxy:\n",
    "    adata: sc.AnnData\n",
    "\n",
    "    @overload\n",
    "    def get(self, k: str, /, default: None = None) -> np.ndarray | None: ...\n",
    "    @overload\n",
    "    def get(self, k: str, /, default: np.ndarray | Raise) -> np.ndarray: ...\n",
    "    def get(\n",
    "        self, k: str, /, default: np.ndarray | Raise | None = None\n",
    "    ) -> np.ndarray | None:\n",
    "        k_orig = k\n",
    "        if \".\" not in k:\n",
    "            if default is not Raise.Sentry and k not in self.adata.var_names:\n",
    "                return default\n",
    "            return self.adata[:, k].X.flatten()\n",
    "        attr_name, k = k.split(\".\", 1)\n",
    "        attr = getattr(self.adata, attr_name)\n",
    "        if \".\" not in k:\n",
    "            if default is not Raise.Sentry and k not in attr:\n",
    "                return default\n",
    "            return attr[k]\n",
    "        k, i = k.split(\".\", 1)\n",
    "        arr = attr[k]\n",
    "        if \".\" not in i:\n",
    "            if default is not Raise.Sentry and not (0 <= int(i) < arr.shape[1]):\n",
    "                return default\n",
    "            return arr[:, int(i)]\n",
    "        raise KeyError(k_orig)\n",
    "\n",
    "    def __contains__(self, k: str) -> bool:\n",
    "        return self.get(k) is not None\n",
    "\n",
    "    def __getitem__(self, k: str) -> object:\n",
    "        return self.get(k, Raise.Sentry)\n",
    "\n",
    "    def __len__(self) -> int:\n",
    "        return len(self.adata)\n",
    "\n",
    "\n",
    "class AnnDataInterface(hv.core.Interface):\n",
    "    types = (sc.AnnData,)\n",
    "    datatype = \"anndata\"\n",
    "\n",
    "    @classmethod\n",
    "    def init(\n",
    "        cls,\n",
    "        eltype,\n",
    "        data: sc.AnnData | AnnDataProxy,\n",
    "        kdims: list[str] | None,\n",
    "        vdims: list[str] | None,\n",
    "    ) -> tuple[AnnDataProxy, dict]:\n",
    "        proxy = AnnDataProxy(data) if isinstance(data, sc.AnnData) else data\n",
    "        return proxy, {\"kdims\": kdims, \"vdims\": vdims}, {}\n",
    "\n",
    "    @classmethod\n",
    "    def values(\n",
    "        cls,\n",
    "        data: hv.Dataset,\n",
    "        dim: hv.Dimension | str,\n",
    "        expanded=True,\n",
    "        flat=True,\n",
    "        compute=True,\n",
    "        keep_index=False,\n",
    "    ) -> np.ndarray:\n",
    "        dim = data.get_dimension(dim)\n",
    "        proxy = cast(AnnDataProxy, data.data)\n",
    "        return proxy[dim.name]\n",
    "\n",
    "    @classmethod\n",
    "    def dimension_type(cls, data: hv.Dataset, dim: hv.Dimension | str) -> np.dtype:\n",
    "        dim = data.get_dimension(dim)\n",
    "        proxy = cast(AnnDataProxy, data.data)\n",
    "        return proxy[dim.name].dtype\n",
    "\n",
    "\n",
    "if AnnDataInterface.datatype not in hv.core.data.datatypes:\n",
    "    hv.core.data.datatypes.append(AnnDataInterface.datatype)\n",
    "hv.core.Interface.register(AnnDataInterface)"
   ]
  },
  {
   "cell_type": "code",
   "execution_count": null,
   "metadata": {},
   "outputs": [],
   "source": [
    "(\n",
    "    hv.Scatter(adata, \"obsm.X_umap.0\", [\"obsm.X_umap.1\", \"obs.paul15_clusters\"])\n",
    "    .opts(color=\"obs.paul15_clusters\", cmap=\"Category20\")\n",
    "    .hist()\n",
    ")"
   ]
  }
 ],
 "metadata": {
  "kernelspec": {
   "display_name": "holoviz playground",
   "language": "python",
   "name": "python3"
  },
  "language_info": {
   "codemirror_mode": {
    "name": "ipython",
    "version": 3
   },
   "file_extension": ".py",
   "mimetype": "text/x-python",
   "name": "python",
   "nbconvert_exporter": "python",
   "pygments_lexer": "ipython3",
   "version": "3.12.7"
  }
 },
 "nbformat": 4,
 "nbformat_minor": 2
}
