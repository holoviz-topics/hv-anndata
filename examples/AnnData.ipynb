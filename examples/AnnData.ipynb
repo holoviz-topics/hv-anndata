{
 "cells": [
  {
   "cell_type": "code",
   "execution_count": null,
   "id": "53287605-19c5-4796-96ac-a718932ecb5f",
   "metadata": {},
   "outputs": [],
   "source": [
    "import holoviews as hv\n",
    "\n",
    "from hv_anndata.interface import ACCESSOR as A, register\n",
    "\n",
    "register()\n",
    "\n",
    "hv.extension('bokeh')"
   ]
  },
  {
   "cell_type": "markdown",
   "id": "4def0867-2ff9-4f48-941f-1b43533ef56e",
   "metadata": {},
   "source": [
    "## Create synthetic data"
   ]
  },
  {
   "cell_type": "code",
   "execution_count": null,
   "id": "c6118fb9-7fb8-43d8-80e1-90ea0f5f501d",
   "metadata": {},
   "outputs": [],
   "source": [
    "import numpy as np\n",
    "import pandas as pd\n",
    "import scipy.sparse as sp\n",
    "from anndata import AnnData\n",
    "from string import ascii_lowercase\n",
    "\n",
    "gen = np.random.default_rng()\n",
    "x = gen.random((100, 50), dtype=np.float32)\n",
    "layers = dict(a=sp.random(100, 50, format=\"csr\"))\n",
    "obs = pd.DataFrame(\n",
    "    dict(type=gen.integers(0, 3, size=100)),\n",
    "    index=pd.Series(range(100)).astype(str).apply(lambda v: 'cell-'+v),\n",
    ")\n",
    "var_grp = pd.Categorical(\n",
    "    gen.integers(0, 6, size=50), categories=list(ascii_lowercase[:5])\n",
    ")\n",
    "var = pd.DataFrame(\n",
    "    dict(grp=var_grp),\n",
    "    index=pd.Series(range(50)).astype(str).apply(lambda v: 'gene-'+v),\n",
    ")\n",
    "obsm = dict(umap=gen.random((100, 2)))\n",
    "varp = dict(cons=sp.csr_array(sp.random(50, 50)))\n",
    "adata = AnnData(x, obs, var, layers=layers, obsm=obsm, varm={}, obsp={}, varp=varp)"
   ]
  },
  {
   "cell_type": "markdown",
   "id": "42723d3b-78cd-437e-a8c8-42b993a1ed80",
   "metadata": {},
   "source": [
    "## Tabular mode"
   ]
  },
  {
   "cell_type": "markdown",
   "id": "64c3a1f5-3d4a-4fd2-a440-f774bbe4133b",
   "metadata": {},
   "source": [
    "We can select the data to display using the `Accessor` object `A`. Here it is important that the data must be indexed along either the `obs` or the `var` dimension.\n",
    "\n",
    "Let us visualize the UMAP data to start:"
   ]
  },
  {
   "cell_type": "code",
   "execution_count": null,
   "id": "a4eee12b-f966-416b-be37-2ef21f4a0f75",
   "metadata": {},
   "outputs": [],
   "source": [
    "scatter = hv.Scatter(adata, A.obsm['umap'][0], [A.obsm['umap'][1], A.obs['type']]).opts(color=\"A.obs['type']\")\n",
    "\n",
    "scatter"
   ]
  },
  {
   "cell_type": "markdown",
   "id": "9217fe75-6ebd-40f4-baa9-5f1aea722173",
   "metadata": {},
   "source": [
    "To make it easier to access data we can also specify the dimensions as strings:"
   ]
  },
  {
   "cell_type": "code",
   "execution_count": null,
   "id": "6b0abcf4-f75c-4674-b2da-1ce9d51592fe",
   "metadata": {},
   "outputs": [],
   "source": [
    "hv.Scatter(adata, 'obsm.umap.0', ['obsm.umap.1', 'obs.type']).opts(color=\"A.obs['type']\")"
   ]
  },
  {
   "cell_type": "markdown",
   "id": "802d9f35-222c-4ece-aaad-e250bcb8a5b3",
   "metadata": {},
   "source": [
    "For an `obs` indexed dataset you can use the select method along the obs variables, e.g. we can select a specific type:"
   ]
  },
  {
   "cell_type": "code",
   "execution_count": null,
   "id": "8c8a3866-68a7-4326-8795-0f62c0ad637b",
   "metadata": {},
   "outputs": [],
   "source": [
    "scatter.select(**{'obs.type': 2})"
   ]
  },
  {
   "cell_type": "markdown",
   "id": "8292b298-7922-4f3e-9835-6f913a57fff6",
   "metadata": {},
   "source": [
    "We can also use the `.iloc` method to index along the obs dimension:"
   ]
  },
  {
   "cell_type": "code",
   "execution_count": null,
   "id": "273d3451-a44a-4d8a-8822-2c53ed08958b",
   "metadata": {},
   "outputs": [],
   "source": [
    "scatter.iloc[:50]"
   ]
  },
  {
   "cell_type": "markdown",
   "id": "32d3a410-3856-4b94-9d0e-04079173eacb",
   "metadata": {},
   "source": [
    "We cannot can mix and match `obs` and `var` dimensions:"
   ]
  },
  {
   "cell_type": "code",
   "execution_count": null,
   "id": "2127ed00-9e1f-4c85-a5ee-0a8d8a94e3a7",
   "metadata": {},
   "outputs": [],
   "source": [
    "hv.Scatter(adata, A.obsm['umap'][0], A.var['index'])"
   ]
  },
  {
   "cell_type": "markdown",
   "id": "c507f707-1cb1-421c-81e1-674aef7e459d",
   "metadata": {},
   "source": [
    "## Gridded Data\n",
    "\n",
    "AnnData can also hold gridded data and we can render that.\n",
    "\n",
    "When rendering an Element that assumes continuous coordinates (e.g. `Image`) it will render the integer indices:"
   ]
  },
  {
   "cell_type": "code",
   "execution_count": null,
   "id": "06086787-8af1-4e05-97cc-c0adb1ea9c40",
   "metadata": {},
   "outputs": [],
   "source": [
    "img = hv.Image(adata, [A.var['index'], A.obs['index']], [A[:, :]])\n",
    "\n",
    "img"
   ]
  },
  {
   "cell_type": "markdown",
   "id": "3576225f-7063-48de-b0a9-0de7252a6e81",
   "metadata": {},
   "source": [
    "When rendering into an element that assumes discrete values (e.g. HeatMap) the axes will be labelled:"
   ]
  },
  {
   "cell_type": "code",
   "execution_count": null,
   "id": "f09e4e08-ad4e-411f-a94b-8b586c29a992",
   "metadata": {},
   "outputs": [],
   "source": [
    "hm = hv.HeatMap(adata, [A.obs['index'], A.var['index']], [A[:, :]])\n",
    "\n",
    "hm.opts(responsive=True, height=800, xrotation=90)"
   ]
  }
 ],
 "metadata": {
  "kernelspec": {
   "display_name": "Python 3 (ipykernel)",
   "language": "python",
   "name": "python3"
  },
  "language_info": {
   "codemirror_mode": {
    "name": "ipython",
    "version": 3
   },
   "file_extension": ".py",
   "mimetype": "text/x-python",
   "name": "python",
   "nbconvert_exporter": "python",
   "pygments_lexer": "ipython3",
   "version": "3.12.2"
  }
 },
 "nbformat": 4,
 "nbformat_minor": 5
}
